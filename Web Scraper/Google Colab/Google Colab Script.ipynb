{
  "cells": [
    {
      "cell_type": "code",
      "execution_count": null,
      "metadata": {
        "id": "ufxmtcAfETCL"
      },
      "outputs": [],
      "source": [
        "from google import colab\n",
        "from google.colab import drive\n",
        "drive.mount('/content/drive')\n",
        "\n",
        "%cd Google Drive Path\n",
        "\n",
        "!pip install -r requirements.txt\n",
        "\n",
        "%cd Web Scraper/Google Colab/\n",
        "\n",
        "!python uml_class_diagram_scraper.py 1 1000"
      ]
    }
  ],
  "metadata": {
    "colab": {
      "provenance": []
    },
    "kernelspec": {
      "display_name": "Python 3",
      "name": "python3"
    },
    "language_info": {
      "name": "python"
    }
  },
  "nbformat": 4,
  "nbformat_minor": 0
}
